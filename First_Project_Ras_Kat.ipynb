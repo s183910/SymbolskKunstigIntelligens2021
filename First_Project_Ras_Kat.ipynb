{
 "cells": [
  {
   "cell_type": "markdown",
   "metadata": {},
   "source": [
    "## First project\n",
    "### Rasmus & Katrine \n",
    "\n",
    "Mavis: Searchclient - README \n",
    "The searchclient requires the 'psutil' package to monitor its memory usage"
   ]
  },
  {
   "cell_type": "code",
   "execution_count": 1,
   "metadata": {},
   "outputs": [
    {
     "name": "stdout",
     "output_type": "stream",
     "text": [
      "C:\\Users\\bayka\\OneDrive\\Dokumenter\\GitHub\\SymbolskKunstigIntelligens2021\\searchclient\n"
     ]
    }
   ],
   "source": [
    "%cd C:\\Users\\bayka\\OneDrive\\Dokumenter\\GitHub\\SymbolskKunstigIntelligens2021\\searchclient"
   ]
  },
  {
   "cell_type": "code",
   "execution_count": 2,
   "metadata": {},
   "outputs": [
    {
     "name": "stdout",
     "output_type": "stream",
     "text": [
      "Requirement already satisfied: psutil in c:\\users\\bayka\\anaconda3\\lib\\site-packages (5.4.8)\n"
     ]
    }
   ],
   "source": [
    "!pip install psutil"
   ]
  },
  {
   "cell_type": "code",
   "execution_count": 3,
   "metadata": {},
   "outputs": [
    {
     "name": "stderr",
     "output_type": "stream",
     "text": [
      "java version \"1.8.0_281\"\n",
      "Java(TM) SE Runtime Environment (build 1.8.0_281-b09)\n",
      "Java HotSpot(TM) Client VM (build 25.281-b09, mixed mode, sharing)\n"
     ]
    }
   ],
   "source": [
    "!java -version"
   ]
  },
  {
   "cell_type": "code",
   "execution_count": null,
   "metadata": {},
   "outputs": [],
   "source": []
  },
  {
   "cell_type": "code",
   "execution_count": 4,
   "metadata": {},
   "outputs": [
    {
     "name": "stderr",
     "output_type": "stream",
     "text": [
      "Error: A JNI error has occurred, please check your installation and try again\n",
      "Exception in thread \"main\" java.lang.UnsupportedClassVersionError: dk/dtu/compute/mavis/server/Server has been compiled by a more recent version of the Java Runtime (class file version 55.0), this version of the Java Runtime only recognizes class file versions up to 52.0\n",
      "\tat java.lang.ClassLoader.defineClass1(Native Method)\n",
      "\tat java.lang.ClassLoader.defineClass(Unknown Source)\n",
      "\tat java.security.SecureClassLoader.defineClass(Unknown Source)\n",
      "\tat java.net.URLClassLoader.defineClass(Unknown Source)\n",
      "\tat java.net.URLClassLoader.access$100(Unknown Source)\n",
      "\tat java.net.URLClassLoader$1.run(Unknown Source)\n",
      "\tat java.net.URLClassLoader$1.run(Unknown Source)\n",
      "\tat java.security.AccessController.doPrivileged(Native Method)\n",
      "\tat java.net.URLClassLoader.findClass(Unknown Source)\n",
      "\tat java.lang.ClassLoader.loadClass(Unknown Source)\n",
      "\tat sun.misc.Launcher$AppClassLoader.loadClass(Unknown Source)\n",
      "\tat java.lang.ClassLoader.loadClass(Unknown Source)\n",
      "\tat sun.launcher.LauncherHelper.checkAndLoadMain(Unknown Source)\n"
     ]
    }
   ],
   "source": [
    "!java -jar server.jar -g -s 300 -t 180 -c \"python searchclient/searchclient.py\" -l levels/SAD1.lvl"
   ]
  },
  {
   "cell_type": "code",
   "execution_count": 5,
   "metadata": {},
   "outputs": [
    {
     "name": "stderr",
     "output_type": "stream",
     "text": [
      "Error: A JNI error has occurred, please check your installation and try again\n",
      "Exception in thread \"main\" java.lang.UnsupportedClassVersionError: dk/dtu/compute/mavis/server/Server has been compiled by a more recent version of the Java Runtime (class file version 55.0), this version of the Java Runtime only recognizes class file versions up to 52.0\n",
      "\tat java.lang.ClassLoader.defineClass1(Native Method)\n",
      "\tat java.lang.ClassLoader.defineClass(Unknown Source)\n",
      "\tat java.security.SecureClassLoader.defineClass(Unknown Source)\n",
      "\tat java.net.URLClassLoader.defineClass(Unknown Source)\n",
      "\tat java.net.URLClassLoader.access$100(Unknown Source)\n",
      "\tat java.net.URLClassLoader$1.run(Unknown Source)\n",
      "\tat java.net.URLClassLoader$1.run(Unknown Source)\n",
      "\tat java.security.AccessController.doPrivileged(Native Method)\n",
      "\tat java.net.URLClassLoader.findClass(Unknown Source)\n",
      "\tat java.lang.ClassLoader.loadClass(Unknown Source)\n",
      "\tat sun.misc.Launcher$AppClassLoader.loadClass(Unknown Source)\n",
      "\tat java.lang.ClassLoader.loadClass(Unknown Source)\n",
      "\tat sun.launcher.LauncherHelper.checkAndLoadMain(Unknown Source)\n"
     ]
    }
   ],
   "source": [
    "!java -jar server.jar -h"
   ]
  }
 ],
 "metadata": {
  "kernelspec": {
   "display_name": "Python 3",
   "language": "python",
   "name": "python3"
  },
  "language_info": {
   "codemirror_mode": {
    "name": "ipython",
    "version": 3
   },
   "file_extension": ".py",
   "mimetype": "text/x-python",
   "name": "python",
   "nbconvert_exporter": "python",
   "pygments_lexer": "ipython3",
   "version": "3.6.8"
  }
 },
 "nbformat": 4,
 "nbformat_minor": 2
}
